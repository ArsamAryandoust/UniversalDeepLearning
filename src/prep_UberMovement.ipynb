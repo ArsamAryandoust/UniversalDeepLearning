{
 "cells": [
  {
   "cell_type": "markdown",
   "id": "7b04fb1a",
   "metadata": {},
   "source": [
    "# Preparing Uber Movement travel time data into graph\n",
    "\n",
    "This is what we do here"
   ]
  },
  {
   "cell_type": "code",
   "execution_count": 2,
   "id": "6498e52b",
   "metadata": {},
   "outputs": [],
   "source": [
    "import pandas as pd\n",
    "\n",
    "path_to_data = '../../data/public/'\n",
    "path_to_data_raw = path_to_data + 'raw/'\n",
    "path_to_data_results = path_to_data + 'standard/'\n",
    "\n"
   ]
  },
  {
   "cell_type": "code",
   "execution_count": null,
   "id": "8b3ba43f",
   "metadata": {},
   "outputs": [],
   "source": []
  },
  {
   "cell_type": "code",
   "execution_count": null,
   "id": "46d4f417",
   "metadata": {},
   "outputs": [],
   "source": []
  }
 ],
 "metadata": {
  "kernelspec": {
   "display_name": "Python 3 (ipykernel)",
   "language": "python",
   "name": "python3"
  },
  "language_info": {
   "codemirror_mode": {
    "name": "ipython",
    "version": 3
   },
   "file_extension": ".py",
   "mimetype": "text/x-python",
   "name": "python",
   "nbconvert_exporter": "python",
   "pygments_lexer": "ipython3",
   "version": "3.8.10"
  }
 },
 "nbformat": 4,
 "nbformat_minor": 5
}
