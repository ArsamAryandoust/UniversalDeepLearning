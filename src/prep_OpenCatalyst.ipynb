{
 "cells": [
  {
   "cell_type": "markdown",
   "id": "d1d8ea23",
   "metadata": {},
   "source": [
    "# Prepare Open Catalyst project data into graph format\n",
    "\n",
    "This is what we do here."
   ]
  },
  {
   "cell_type": "code",
   "execution_count": 1,
   "id": "92980fbe",
   "metadata": {},
   "outputs": [],
   "source": [
    "import pandas as pd\n",
    "\n",
    "path_to_data = '../../data/public/'\n",
    "path_to_data_raw = path_to_data + 'raw/'\n",
    "path_to_data_results = path_to_data + 'standard/'\n",
    "\n"
   ]
  },
  {
   "cell_type": "code",
   "execution_count": null,
   "id": "be7f606d",
   "metadata": {},
   "outputs": [],
   "source": []
  },
  {
   "cell_type": "code",
   "execution_count": null,
   "id": "ffecb90d",
   "metadata": {},
   "outputs": [],
   "source": []
  }
 ],
 "metadata": {
  "kernelspec": {
   "display_name": "Python 3 (ipykernel)",
   "language": "python",
   "name": "python3"
  },
  "language_info": {
   "codemirror_mode": {
    "name": "ipython",
    "version": 3
   },
   "file_extension": ".py",
   "mimetype": "text/x-python",
   "name": "python",
   "nbconvert_exporter": "python",
   "pygments_lexer": "ipython3",
   "version": "3.8.10"
  }
 },
 "nbformat": 4,
 "nbformat_minor": 5
}
