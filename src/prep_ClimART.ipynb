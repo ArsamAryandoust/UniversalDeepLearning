{
 "cells": [
  {
   "cell_type": "markdown",
   "id": "5ce76990",
   "metadata": {},
   "source": [
    "# Preparing ClimART data into graph\n",
    "\n",
    "This is what we do here."
   ]
  },
  {
   "cell_type": "code",
   "execution_count": 1,
   "id": "023337a1",
   "metadata": {},
   "outputs": [],
   "source": [
    "import hyper\n",
    "import prep_climart\n",
    "\n",
    "HYPER = hyper.HyperParameter()"
   ]
  },
  {
   "cell_type": "code",
   "execution_count": null,
   "id": "707f33b6",
   "metadata": {},
   "outputs": [],
   "source": []
  },
  {
   "cell_type": "code",
   "execution_count": null,
   "id": "6d1b9f4c",
   "metadata": {},
   "outputs": [],
   "source": []
  }
 ],
 "metadata": {
  "kernelspec": {
   "display_name": "Python 3 (ipykernel)",
   "language": "python",
   "name": "python3"
  },
  "language_info": {
   "codemirror_mode": {
    "name": "ipython",
    "version": 3
   },
   "file_extension": ".py",
   "mimetype": "text/x-python",
   "name": "python",
   "nbconvert_exporter": "python",
   "pygments_lexer": "ipython3",
   "version": "3.8.10"
  }
 },
 "nbformat": 4,
 "nbformat_minor": 5
}
