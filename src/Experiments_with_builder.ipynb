{
 "cells": [
  {
   "cell_type": "code",
   "execution_count": 1,
   "id": "8ca2d400",
   "metadata": {},
   "outputs": [],
   "source": [
    "import torch\n",
    "import numpy as np\n",
    "from GraphBuilder import GraphBuilder"
   ]
  },
  {
   "cell_type": "code",
   "execution_count": 2,
   "id": "b357cc07",
   "metadata": {},
   "outputs": [
    {
     "data": {
      "text/plain": [
       "torch.Size([64, 946])"
      ]
     },
     "execution_count": 2,
     "metadata": {},
     "output_type": "execute_result"
    }
   ],
   "source": [
    "batch = torch.load('climart_batch.pt')\n",
    "batch.shape"
   ]
  },
  {
   "cell_type": "code",
   "execution_count": 3,
   "id": "46050fcc",
   "metadata": {},
   "outputs": [],
   "source": [
    "def distance_function(x, y):\n",
    "    return np.absolute(x-y).max()"
   ]
  },
  {
   "cell_type": "code",
   "execution_count": 4,
   "id": "14c2c17f",
   "metadata": {},
   "outputs": [],
   "source": [
    "graphBuilder = GraphBuilder(distance_function, [0,1,2,3,4], 0.8, None)"
   ]
  },
  {
   "cell_type": "code",
   "execution_count": 5,
   "id": "f52ad093",
   "metadata": {},
   "outputs": [],
   "source": [
    "edges_indeces, edges_weights = graphBuilder.compute_edges_matrices(batch)"
   ]
  },
  {
   "cell_type": "code",
   "execution_count": 6,
   "id": "14097ace",
   "metadata": {},
   "outputs": [
    {
     "data": {
      "text/plain": [
       "tensor([[ 1,  1, 10, 10, 13, 15, 18, 26, 30, 37, 39, 43, 54, 55, 57, 59, 59, 60],\n",
       "        [10, 59,  1, 59, 55, 54, 30, 57, 18, 39, 37, 60, 15, 13, 26,  1, 10, 43]])"
      ]
     },
     "execution_count": 6,
     "metadata": {},
     "output_type": "execute_result"
    }
   ],
   "source": [
    "edges_indeces"
   ]
  },
  {
   "cell_type": "code",
   "execution_count": 7,
   "id": "c7cb1e54",
   "metadata": {},
   "outputs": [
    {
     "data": {
      "text/plain": [
       "tensor([1.0000, 0.1111, 1.0000, 0.1111, 0.2222, 0.1111, 0.1111, 0.1111, 0.1111,\n",
       "        0.1111, 0.1111, 0.1111, 0.1111, 0.2222, 0.1111, 0.1111, 0.1111, 0.1111],\n",
       "       dtype=torch.float64)"
      ]
     },
     "execution_count": 7,
     "metadata": {},
     "output_type": "execute_result"
    }
   ],
   "source": [
    "edges_weights"
   ]
  },
  {
   "cell_type": "code",
   "execution_count": null,
   "id": "c3bee9bb",
   "metadata": {},
   "outputs": [],
   "source": []
  }
 ],
 "metadata": {
  "kernelspec": {
   "display_name": "Python 3 (ipykernel)",
   "language": "python",
   "name": "python3"
  },
  "language_info": {
   "codemirror_mode": {
    "name": "ipython",
    "version": 3
   },
   "file_extension": ".py",
   "mimetype": "text/x-python",
   "name": "python",
   "nbconvert_exporter": "python",
   "pygments_lexer": "ipython3",
   "version": "3.10.6"
  }
 },
 "nbformat": 4,
 "nbformat_minor": 5
}
